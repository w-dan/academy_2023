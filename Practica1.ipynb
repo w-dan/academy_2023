{
  "nbformat": 4,
  "nbformat_minor": 0,
  "metadata": {
    "colab": {
      "provenance": [],
      "authorship_tag": "ABX9TyMH/Ywwo626paoUUNWMkZYc"
    },
    "kernelspec": {
      "name": "python3",
      "display_name": "Python 3"
    },
    "language_info": {
      "name": "python"
    }
  },
  "cells": [
    {
      "cell_type": "markdown",
      "source": [
        "# Práctica 1 - Regresión\n",
        "\n",
        "Vamos a trabajar con un conjunto de datos que representa una serie de billetes de renfe. Entre sus parámetros se encuentran:\n",
        "\n",
        "\n",
        "\n",
        "\n",
        "*   **id**: identificador del billete\n",
        "*   **company**: empresa\n",
        "*   **origin**: lugar de salida del tren\n",
        "*   **destination**: lugar de llegada del tren\n",
        "*   **departure**: hora de salida del tren\n",
        "*   **arrival**: hora de llegada del tren\n",
        "*   **duration**: duración del trayecto\n",
        "*   **vehicle_type**: tipo de tren\n",
        "*   **vehicle_class**: clase del pasajero\n",
        "*   **price**: precio (variable objetivo, a predecir)\n",
        "\n",
        "\n",
        "\n"
      ],
      "metadata": {
        "id": "8PLE66WvpJjF"
      }
    },
    {
      "cell_type": "code",
      "execution_count": null,
      "metadata": {
        "id": "-Fl_LUiRmzBF"
      },
      "outputs": [],
      "source": [
        "test_url = \"https://gist.githubusercontent.com/w-dan/a3c63b2aed66a5edd1288c1d3006fc79/raw/9dcc831af941428edad3ef285729e4ef5a63a9fb/renfe-test.csv\"\n",
        "train_url = \"https://gist.githubusercontent.com/w-dan/a3c63b2aed66a5edd1288c1d3006fc79/raw/9dcc831af941428edad3ef285729e4ef5a63a9fb/renfe-train.csv\""
      ]
    },
    {
      "cell_type": "code",
      "source": [],
      "metadata": {
        "id": "TX9tfUmHm7Rj"
      },
      "execution_count": null,
      "outputs": []
    }
  ]
}