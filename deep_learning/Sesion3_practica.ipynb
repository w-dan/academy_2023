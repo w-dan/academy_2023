{
 "cells": [
  {
   "cell_type": "code",
   "execution_count": 1,
   "metadata": {},
   "outputs": [],
   "source": [
    "import pandas as pd"
   ]
  },
  {
   "cell_type": "markdown",
   "metadata": {},
   "source": [
    "Descárgate las fuentes de datos de [este kaggle](https://www.kaggle.com/datasets/gunhcolab/object-detection-dataset-standard-52card-deck). Te encontrarás con la siguiente estructura:\n",
    "\n",
    "- test_labels.csv: fichero con metadatos sobre las imágenes de entrenamiento.\n",
    "- test_labels.csv: fichero con metadatos sobre las imágenes de test.\n",
    "- train/: directorio que contiene las imágenes de entrenamiento.\n",
    "- test/: directorio que contiene las imágenes de test.\n",
    "\n",
    "En los .csv hay cierta información relevante sobre las imágenes:\n",
    "\n",
    "- **width** y **height** determinan el ancho y alto de la imagen en píxeles.\n",
    "- **xmin** e **ymin** determinan la esquina superior izquierda de la carta.\n",
    "- **xmax** e **ymax** determinan la esquina inferior derecha de la carta.\n",
    "- **class** representa la variable a predecir.\n",
    "\n",
    "El objetivo de la práctica consiste en crear un algoritmo de deep learning con Pytorch que prediga a qué palo pertenece una carta.\n",
    "\n",
    "Nota que para obtener la clase a predecir hay que hacer algo de procesamiento sobre la variable que tenemos para extraer el palo.\n",
    "\n",
    "La arquitectura de la red neuronal es completamente libre. La idea es que experimentéis con todo lo que se os ocurra (esto se valorará positivamente)."
   ]
  },
  {
   "cell_type": "code",
   "execution_count": null,
   "metadata": {},
   "outputs": [],
   "source": []
  }
 ],
 "metadata": {
  "kernelspec": {
   "display_name": "Python 3.10.6 64-bit",
   "language": "python",
   "name": "python3"
  },
  "language_info": {
   "codemirror_mode": {
    "name": "ipython",
    "version": 3
   },
   "file_extension": ".py",
   "mimetype": "text/x-python",
   "name": "python",
   "nbconvert_exporter": "python",
   "pygments_lexer": "ipython3",
   "version": "3.10.6"
  },
  "orig_nbformat": 4,
  "vscode": {
   "interpreter": {
    "hash": "e7370f93d1d0cde622a1f8e1c04877d8463912d04d973331ad4851f04de6915a"
   }
  }
 },
 "nbformat": 4,
 "nbformat_minor": 2
}
