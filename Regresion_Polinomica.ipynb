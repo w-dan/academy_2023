{
  "nbformat": 4,
  "nbformat_minor": 0,
  "metadata": {
    "colab": {
      "provenance": [],
      "authorship_tag": "ABX9TyOUhIPPlVLoD/L4rUF9DpfJ"
    },
    "kernelspec": {
      "name": "python3",
      "display_name": "Python 3"
    },
    "language_info": {
      "name": "python"
    }
  },
  "cells": [
    {
      "cell_type": "markdown",
      "source": [
        "# Regresión polinómica\n",
        "\n",
        "Observamos anteriormente que la regresión lineal tiene problemas para ajustarse a datos con correlaciones no lineales:"
      ],
      "metadata": {
        "id": "Pqzm4CGn6-OV"
      }
    },
    {
      "cell_type": "code",
      "execution_count": 1,
      "metadata": {
        "colab": {
          "base_uri": "https://localhost:8080/",
          "height": 279
        },
        "id": "PduuoFXp4dCc",
        "outputId": "b3175c75-7aa6-48ff-9ed3-549c6199e7e7"
      },
      "outputs": [
        {
          "output_type": "display_data",
          "data": {
            "text/plain": [
              "<Figure size 432x288 with 1 Axes>"
            ],
            "image/png": "[encoded data removed]"
          },
          "metadata": {
            "needs_background": "light"
          }
        }
      ],
      "source": [
        "from sklearn.linear_model import LinearRegression\n",
        "import matplotlib.pyplot as plt\n",
        "import numpy as np\n",
        "\n",
        "n_samples = 100\n",
        "\n",
        "np.random.seed(43)\n",
        "\n",
        "X = np.expand_dims(np.linspace(-2, 2, n_samples), axis=1) + np.random.rand(n_samples,1)\n",
        "y = 3 - 2 * X + X * X * X + np.random.rand(n_samples,1)\n",
        "\n",
        "# configuración del gráfico\n",
        "plt.figure()\n",
        "\n",
        "min_x = np.min(X)\n",
        "max_x = np.max(X)\n",
        "diff_x = max_x - min_x\n",
        "\n",
        "min_y = np.min(y)\n",
        "max_y = np.max(y)\n",
        "diff_y = max_y - min_y\n",
        "\n",
        "plt.xlim(min_x - 0.1 * diff_x, max_x + 0.1 * diff_x)\n",
        "plt.ylim(min_y - 0.1 * diff_y, max_y + 0.1 * diff_y)\n",
        "\n",
        "plt.xlabel('x')\n",
        "plt.ylabel('y')\n",
        "\n",
        "plt.scatter(X, y)\n",
        "\n",
        "reg = LinearRegression().fit(X, y)\n",
        "line = np.linspace(min_x - 0.1 * diff_x, max_x + 0.1 * diff_x)\n",
        "plt.plot(line, reg.intercept_ + reg.coef_[0] * line, c='red')\n",
        "\n",
        "plt.show()"
      ]
    },
    {
      "cell_type": "markdown",
      "source": [
        "La regresión polinómica consigue añadir curvatura al modelo elevando al cuadrado u otras potencias las variables independientes originales, construyendo un polinomio de grado $n$.\n",
        "\n",
        "$$\\hat{y} = \\beta_0 + \\beta_1 x + \\beta_2 x^2 + \\ldots + \\beta_n x^n$$\n",
        "\n",
        "`Sklearn` incluye `preprocessing.PolynomialFeatures`, que nos permite transformar cualquier conjunto de datos en uno con correlaciones polinómicas, pudiendo obtener a partir de $x_1$ y $x_2$ un polinomio de grado 3 como $x_1$, $x_2$, $x_1^2$, $x_2^2$, $x_1 \\cdot x_2$, $x_1^3$, $x_2^3$, $x_1^2 \\cdot x_2$ y $x_1 \\cdot x_2^2$, que da como resultado $x1$ y $x2$.<br><br>\n",
        "Generemos un polinomio de grado 3 a partir del ejemplo anterior:"
      ],
      "metadata": {
        "id": "b24aHS7XVCRZ"
      }
    },
    {
      "cell_type": "code",
      "source": [
        "# visualizamos los datos de ejemplo:\n",
        "X"
      ],
      "metadata": {
        "colab": {
          "base_uri": "https://localhost:8080/"
        },
        "id": "QbriFAqVYKDt",
        "outputId": "b212c112-b232-4265-b169-406b6f153f50"
      },
      "execution_count": 3,
      "outputs": [
        {
          "output_type": "execute_result",
          "data": {
            "text/plain": [
              "array([[-1.88494543],\n",
              "       [-1.35052942],\n",
              "       [-1.78580096],\n",
              "       [-1.63819826],\n",
              "       [-1.51124478],\n",
              "       [-0.93884231],\n",
              "       [-1.09148554],\n",
              "       [-1.1760095 ],\n",
              "       [-1.64775385],\n",
              "       [-0.90261534],\n",
              "       [-1.20100958],\n",
              "       [-0.75350844],\n",
              "       [-1.26073039],\n",
              "       [-1.41786254],\n",
              "       [-0.56769479],\n",
              "       [-1.1729104 ],\n",
              "       [-0.94854591],\n",
              "       [-0.99703484],\n",
              "       [-1.19606457],\n",
              "       [-0.38909854],\n",
              "       [-0.34298004],\n",
              "       [-0.18005006],\n",
              "       [-0.7257342 ],\n",
              "       [-0.11621895],\n",
              "       [-0.58454467],\n",
              "       [-0.32017434],\n",
              "       [-0.8669949 ],\n",
              "       [-0.01199233],\n",
              "       [-0.57068337],\n",
              "       [-0.56597801],\n",
              "       [-0.78274924],\n",
              "       [-0.20427223],\n",
              "       [-0.23147434],\n",
              "       [-0.03029299],\n",
              "       [ 0.35194151],\n",
              "       [ 0.32280417],\n",
              "       [ 0.36469853],\n",
              "       [ 0.02020517],\n",
              "       [-0.36062751],\n",
              "       [-0.24332783],\n",
              "       [ 0.56920184],\n",
              "       [ 0.06851864],\n",
              "       [ 0.56198682],\n",
              "       [ 0.40955102],\n",
              "       [ 0.40656357],\n",
              "       [ 0.09374059],\n",
              "       [ 0.75533313],\n",
              "       [ 0.10588127],\n",
              "       [ 0.34379918],\n",
              "       [ 0.97337047],\n",
              "       [ 0.7559291 ],\n",
              "       [ 0.50566747],\n",
              "       [ 0.66167327],\n",
              "       [ 0.55266963],\n",
              "       [ 0.90880617],\n",
              "       [ 0.62141911],\n",
              "       [ 0.93277143],\n",
              "       [ 1.00774591],\n",
              "       [ 0.95299421],\n",
              "       [ 0.92387285],\n",
              "       [ 0.63032428],\n",
              "       [ 0.66380794],\n",
              "       [ 1.30078937],\n",
              "       [ 0.83578732],\n",
              "       [ 1.24182141],\n",
              "       [ 0.9258794 ],\n",
              "       [ 0.81114505],\n",
              "       [ 1.11102737],\n",
              "       [ 1.05774427],\n",
              "       [ 1.0312768 ],\n",
              "       [ 1.41638687],\n",
              "       [ 1.11403012],\n",
              "       [ 1.65686152],\n",
              "       [ 1.6696416 ],\n",
              "       [ 1.68515986],\n",
              "       [ 1.13304581],\n",
              "       [ 2.0143495 ],\n",
              "       [ 1.61445074],\n",
              "       [ 2.05118877],\n",
              "       [ 1.39049908],\n",
              "       [ 1.82677242],\n",
              "       [ 2.23813585],\n",
              "       [ 2.31182956],\n",
              "       [ 1.37770398],\n",
              "       [ 1.87524273],\n",
              "       [ 1.72576612],\n",
              "       [ 1.53846804],\n",
              "       [ 2.08477591],\n",
              "       [ 1.56063884],\n",
              "       [ 2.20723719],\n",
              "       [ 2.50654511],\n",
              "       [ 2.56036914],\n",
              "       [ 2.6714912 ],\n",
              "       [ 2.49743958],\n",
              "       [ 1.98269276],\n",
              "       [ 2.27306216],\n",
              "       [ 2.76468737],\n",
              "       [ 2.1742382 ],\n",
              "       [ 2.40290865],\n",
              "       [ 2.61693698]])"
            ]
          },
          "metadata": {},
          "execution_count": 3
        }
      ]
    },
    {
      "cell_type": "code",
      "source": [
        "from sklearn.preprocessing import PolynomialFeatures\n",
        "\n",
        "poly_X = PolynomialFeatures(degree=3, include_bias=False).fit_transform(X)\n",
        "poly_X"
      ],
      "metadata": {
        "colab": {
          "base_uri": "https://localhost:8080/"
        },
        "id": "OZvC412n7AuE",
        "outputId": "f8620710-0132-4458-fc32-6cd2103c9e1f"
      },
      "execution_count": 4,
      "outputs": [
        {
          "output_type": "execute_result",
          "data": {
            "text/plain": [
              "array([[-1.88494543e+00,  3.55301929e+00, -6.69724748e+00],\n",
              "       [-1.35052942e+00,  1.82392972e+00, -2.46327074e+00],\n",
              "       [-1.78580096e+00,  3.18908505e+00, -5.69507113e+00],\n",
              "       [-1.63819826e+00,  2.68369354e+00, -4.39642208e+00],\n",
              "       [-1.51124478e+00,  2.28386079e+00, -3.45147271e+00],\n",
              "       [-9.38842307e-01,  8.81424877e-01, -8.27518965e-01],\n",
              "       [-1.09148554e+00,  1.19134069e+00, -1.30033115e+00],\n",
              "       [-1.17600950e+00,  1.38299836e+00, -1.62641921e+00],\n",
              "       [-1.64775385e+00,  2.71509276e+00, -4.47380455e+00],\n",
              "       [-9.02615340e-01,  8.14714452e-01, -7.35373762e-01],\n",
              "       [-1.20100958e+00,  1.44242401e+00, -1.73236505e+00],\n",
              "       [-7.53508437e-01,  5.67774965e-01, -4.27823226e-01],\n",
              "       [-1.26073039e+00,  1.58944111e+00, -2.00385672e+00],\n",
              "       [-1.41786254e+00,  2.01033418e+00, -2.85037752e+00],\n",
              "       [-5.67694793e-01,  3.22277379e-01, -1.82955190e-01],\n",
              "       [-1.17291040e+00,  1.37571880e+00, -1.61359489e+00],\n",
              "       [-9.48545905e-01,  8.99739335e-01, -8.53444062e-01],\n",
              "       [-9.97034842e-01,  9.94078476e-01, -9.91130877e-01],\n",
              "       [-1.19606457e+00,  1.43057046e+00, -1.71105465e+00],\n",
              "       [-3.89098538e-01,  1.51397672e-01, -5.89086130e-02],\n",
              "       [-3.42980044e-01,  1.17635311e-01, -4.03465641e-02],\n",
              "       [-1.80050060e-01,  3.24180241e-02, -5.83686719e-03],\n",
              "       [-7.25734197e-01,  5.26690124e-01, -3.82237034e-01],\n",
              "       [-1.16218946e-01,  1.35068433e-02, -1.56975109e-03],\n",
              "       [-5.84544669e-01,  3.41692471e-01, -1.99734512e-01],\n",
              "       [-3.20174338e-01,  1.02511607e-01, -3.28215859e-02],\n",
              "       [-8.66994900e-01,  7.51680156e-01, -6.51702862e-01],\n",
              "       [-1.19923291e-02,  1.43815957e-04, -1.72468829e-06],\n",
              "       [-5.70683368e-01,  3.25679507e-01, -1.85859878e-01],\n",
              "       [-5.65978006e-01,  3.20331103e-01, -1.81300359e-01],\n",
              "       [-7.82749239e-01,  6.12696371e-01, -4.79587618e-01],\n",
              "       [-2.04272232e-01,  4.17271448e-02, -8.52369702e-03],\n",
              "       [-2.31474340e-01,  5.35803701e-02, -1.24024808e-02],\n",
              "       [-3.02929891e-02,  9.17665188e-04, -2.77988215e-05],\n",
              "       [ 3.51941508e-01,  1.23862825e-01,  4.35924694e-02],\n",
              "       [ 3.22804172e-01,  1.04202533e-01,  3.36370125e-02],\n",
              "       [ 3.64698530e-01,  1.33005018e-01,  4.85067346e-02],\n",
              "       [ 2.02051661e-02,  4.08248735e-04,  8.24873349e-06],\n",
              "       [-3.60627515e-01,  1.30052204e-01, -4.69004033e-02],\n",
              "       [-2.43327829e-01,  5.92084324e-02, -1.44070593e-02],\n",
              "       [ 5.69201837e-01,  3.23990731e-01,  1.84416120e-01],\n",
              "       [ 6.85186400e-02,  4.69480402e-03,  3.21681586e-04],\n",
              "       [ 5.61986818e-01,  3.15829183e-01,  1.77491838e-01],\n",
              "       [ 4.09551017e-01,  1.67732035e-01,  6.86948257e-02],\n",
              "       [ 4.06563574e-01,  1.65293939e-01,  6.72024947e-02],\n",
              "       [ 9.37405948e-02,  8.78729912e-03,  8.23726646e-04],\n",
              "       [ 7.55333128e-01,  5.70528135e-01,  4.30938801e-01],\n",
              "       [ 1.05881270e-01,  1.12108434e-02,  1.18701834e-03],\n",
              "       [ 3.43799182e-01,  1.18197878e-01,  4.06363338e-02],\n",
              "       [ 9.73370472e-01,  9.47450076e-01,  9.22219928e-01],\n",
              "       [ 7.55929102e-01,  5.71428807e-01,  4.31959665e-01],\n",
              "       [ 5.05667473e-01,  2.55699593e-01,  1.29298967e-01],\n",
              "       [ 6.61673270e-01,  4.37811517e-01,  2.89688178e-01],\n",
              "       [ 5.52669631e-01,  3.05443720e-01,  1.68809468e-01],\n",
              "       [ 9.08806174e-01,  8.25928662e-01,  7.50609067e-01],\n",
              "       [ 6.21419108e-01,  3.86161708e-01,  2.39968264e-01],\n",
              "       [ 9.32771427e-01,  8.70062536e-01,  8.11569473e-01],\n",
              "       [ 1.00774591e+00,  1.01555182e+00,  1.02341819e+00],\n",
              "       [ 9.52994215e-01,  9.08197973e-01,  8.65507414e-01],\n",
              "       [ 9.23872848e-01,  8.53541039e-01,  7.88563391e-01],\n",
              "       [ 6.30324275e-01,  3.97308692e-01,  2.50433313e-01],\n",
              "       [ 6.63807941e-01,  4.40640983e-01,  2.92500984e-01],\n",
              "       [ 1.30078937e+00,  1.69205298e+00,  2.20100454e+00],\n",
              "       [ 8.35787323e-01,  6.98540450e-01,  5.83831253e-01],\n",
              "       [ 1.24182141e+00,  1.54212042e+00,  1.91503816e+00],\n",
              "       [ 9.25879402e-01,  8.57252667e-01,  7.93712587e-01],\n",
              "       [ 8.11145045e-01,  6.57956284e-01,  5.33697980e-01],\n",
              "       [ 1.11102737e+00,  1.23438183e+00,  1.37143200e+00],\n",
              "       [ 1.05774427e+00,  1.11882295e+00,  1.18342857e+00],\n",
              "       [ 1.03127680e+00,  1.06353185e+00,  1.09679572e+00],\n",
              "       [ 1.41638687e+00,  2.00615177e+00,  2.84148703e+00],\n",
              "       [ 1.11403012e+00,  1.24106311e+00,  1.38258169e+00],\n",
              "       [ 1.65686152e+00,  2.74519010e+00,  4.54839984e+00],\n",
              "       [ 1.66964160e+00,  2.78770306e+00,  4.65446500e+00],\n",
              "       [ 1.68515986e+00,  2.83976374e+00,  4.78545586e+00],\n",
              "       [ 1.13304581e+00,  1.28379281e+00,  1.45459606e+00],\n",
              "       [ 2.01434950e+00,  4.05760390e+00,  8.17343239e+00],\n",
              "       [ 1.61445074e+00,  2.60645120e+00,  4.20798709e+00],\n",
              "       [ 2.05118877e+00,  4.20737537e+00,  8.63012112e+00],\n",
              "       [ 1.39049908e+00,  1.93348768e+00,  2.68851284e+00],\n",
              "       [ 1.82677242e+00,  3.33709747e+00,  6.09611762e+00],\n",
              "       [ 2.23813585e+00,  5.00925210e+00,  1.12113867e+01],\n",
              "       [ 2.31182956e+00,  5.34455591e+00,  1.23557023e+01],\n",
              "       [ 1.37770398e+00,  1.89806825e+00,  2.61497618e+00],\n",
              "       [ 1.87524273e+00,  3.51653529e+00,  6.59435722e+00],\n",
              "       [ 1.72576612e+00,  2.97826871e+00,  5.13979526e+00],\n",
              "       [ 1.53846804e+00,  2.36688392e+00,  3.64137527e+00],\n",
              "       [ 2.08477591e+00,  4.34629061e+00,  9.06104198e+00],\n",
              "       [ 1.56063884e+00,  2.43559359e+00,  3.80108196e+00],\n",
              "       [ 2.20723719e+00,  4.87189599e+00,  1.07534300e+01],\n",
              "       [ 2.50654511e+00,  6.28276841e+00,  1.57480424e+01],\n",
              "       [ 2.56036914e+00,  6.55549014e+00,  1.67844747e+01],\n",
              "       [ 2.67149120e+00,  7.13686523e+00,  1.90660727e+01],\n",
              "       [ 2.49743958e+00,  6.23720444e+00,  1.55770412e+01],\n",
              "       [ 1.98269276e+00,  3.93107056e+00,  7.79410513e+00],\n",
              "       [ 2.27306216e+00,  5.16681158e+00,  1.17444839e+01],\n",
              "       [ 2.76468737e+00,  7.64349628e+00,  2.11318777e+01],\n",
              "       [ 2.17423820e+00,  4.72731175e+00,  1.02783018e+01],\n",
              "       [ 2.40290865e+00,  5.77397000e+00,  1.38743225e+01],\n",
              "       [ 2.61693698e+00,  6.84835914e+00,  1.79217242e+01]])"
            ]
          },
          "metadata": {},
          "execution_count": 4
        }
      ]
    },
    {
      "cell_type": "markdown",
      "source": [
        "Y si entrenamos el modelo con estos datos, ya no obtendremos una recta:"
      ],
      "metadata": {
        "id": "wieXkMmDYPxK"
      }
    },
    {
      "cell_type": "code",
      "source": [
        "from sklearn.linear_model import LinearRegression\n",
        "import matplotlib.pyplot as plt\n",
        "import numpy as np\n",
        "\n",
        "plt.figure()\n",
        "\n",
        "min_x = np.min(X)\n",
        "max_x = np.max(X)\n",
        "diff_x = max_x - min_x\n",
        "\n",
        "min_y = np.min(y)\n",
        "max_y = np.max(y)\n",
        "diff_y = max_y - min_y\n",
        "\n",
        "plt.xlim(min_x - 0.1 * diff_x, max_x + 0.1 * diff_x)\n",
        "plt.ylim(min_y - 0.1 * diff_y, max_y + 0.1 * diff_y)\n",
        "\n",
        "plt.xlabel('x')\n",
        "plt.ylabel('y')\n",
        "\n",
        "plt.scatter(X, y)\n",
        "\n",
        "reg = LinearRegression().fit(poly_X, y)\n",
        "line = np.linspace(min_x - 0.1 * diff_x, max_x + 0.1 * diff_x).reshape(-1, 1)\n",
        "xs = PolynomialFeatures(degree=3, include_bias=False).fit_transform(line)\n",
        "ys = reg.predict(xs)\n",
        "\n",
        "plt.plot(xs[:,0], ys, c='red')\n",
        "\n",
        "plt.show()"
      ],
      "metadata": {
        "colab": {
          "base_uri": "https://localhost:8080/",
          "height": 279
        },
        "id": "sQPhmzvDYIsD",
        "outputId": "800fb705-c54b-464a-9fbd-bae56f2f8fef"
      },
      "execution_count": 5,
      "outputs": [
        {
          "output_type": "display_data",
          "data": {
            "text/plain": [
              "<Figure size 432x288 with 1 Axes>"
            ],
            "image/png": "[encoded data removed]"
          },
          "metadata": {
            "needs_background": "light"
          }
        }
      ]
    },
    {
      "cell_type": "code",
      "source": [],
      "metadata": {
        "id": "IuK7iCvQYTAe"
      },
      "execution_count": null,
      "outputs": []
    }
  ]
}