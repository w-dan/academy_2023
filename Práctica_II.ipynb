{
  "nbformat": 4,
  "nbformat_minor": 0,
  "metadata": {
    "colab": {
      "provenance": [],
      "authorship_tag": "ABX9TyOozGmp4ujpaElwqJL5k9kA"
    },
    "kernelspec": {
      "name": "python3",
      "display_name": "Python 3"
    },
    "language_info": {
      "name": "python"
    }
  },
  "cells": [
    {
      "cell_type": "markdown",
      "source": [
        "# Práctica 2\n",
        "\n",
        "Vamos a utilizar un conjunto de datos ([Fuente](https://www.sciencedirect.com/science/article/pii/S2352340919306985?via%3Dihub)) que tiene como objetivo estimar, en base a sus hábitos alimenticios y condición física, el nivel de obesidad de unos individuos.<br>\n",
        "Estos datos son reales y se han obtenido por medio de encuestas realizadas en Colombia, Perú y México. Veamos su naturaleza:\n",
        "\n",
        "* **Gender**: el género del individuo |``Male/Female``\n",
        "* **Age**: edad del individuo | ``numérico``\n",
        "* **Height**: estatura del individuo | ``numérico``\n",
        "* **Weight**: el peso del individuo | ``numérico``\n",
        "* **family_history_with_overweight**: historial familiar de sobrepeso | ``Yes/No``\n",
        "* **FAVC**: el individuo come frecuentemente comida hipercalórica | ``Yes/No``\n",
        "* **FCVC**: el individuo come verduras frecuentemente | (**Nos lo dan normalizado**)\n",
        "* **NCP**: número de comidas diarias | (**Nos lo dan normalizado**)\n",
        "* **CAEC**: consumo de comidas entre horas | ``No/Sometimes/Frequently/Always``\n",
        "* **SMOKE**: el individuo fuma | ``Yes/No``\n",
        "* **CH2O**: cantidad de agua bebida al día (**Nos lo dan normalizado**)\n",
        "* **SCC**: el individuo monitorea las calorías que consume diariamente | ``Yes/No``\n",
        "* **FAF**: frecuencia de actividad física (**Nos lo dan normalizado**)\n",
        "* **TUE**: tiempo que pasa en pantallas al día el individuo | (**Nos lo dan normalizado**)\n",
        "* **CALC**: frecuencia con la que el individuo consume alcohol | ``No/Sometimes/Frequently/Always``\n",
        "* **MTRANS**: medio de transporte habitual | ``Automobile/Motorbike/Bike/Public Transportation/Walking`` \n",
        "* **NObeyesdad**: **variable objetivo**, grado de obesidad ``Underweight/Normal/Overweight I/Overweight II/Obesity I/Obesity II/Obesity III``"
      ],
      "metadata": {
        "id": "cYWTcYxdNnUs"
      }
    },
    {
      "cell_type": "markdown",
      "source": [
        "**[Podéis borrar esta celda]**\n",
        "\n",
        "Os dejo como la última vez las urls de los datos subidos, y podéis añadir tantas celdas como os haga falta.\n",
        "\n",
        "Se valorará positivamente:\n",
        "\n",
        "* Explicación de los pasos seguidos\n",
        "* Visualización e interpretación de la naturaleza (distribución, forma, etc.) de la naturaleza de los datos\n",
        "* Pruebas de varios modelos (que quede constancia en el cuaderno)\n",
        "* Interpretación de los resultados\n",
        "\n",
        "Incluyendo celdas de texto explicando los pasos seguidos se aborda gran parte de estos criterios.\n"
      ],
      "metadata": {
        "id": "keIc4kXhU6uh"
      }
    },
    {
      "cell_type": "code",
      "execution_count": 1,
      "metadata": {
        "id": "Gtz0m6_cNEAo"
      },
      "outputs": [],
      "source": [
        "train_url = \"https://gist.githubusercontent.com/w-dan/460b3860890ac5f997a6902ab5ad9772/raw/c158a316b64170b8aed4f8df1cceb9373bb8575c/train.csv\"\n",
        "test_url  = \"https://gist.githubusercontent.com/w-dan/460b3860890ac5f997a6902ab5ad9772/raw/c158a316b64170b8aed4f8df1cceb9373bb8575c/test.csv\""
      ]
    },
    {
      "cell_type": "code",
      "source": [],
      "metadata": {
        "id": "EMy1UJBmU2nm"
      },
      "execution_count": null,
      "outputs": []
    }
  ]
}