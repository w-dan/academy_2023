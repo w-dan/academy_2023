{
  "nbformat": 4,
  "nbformat_minor": 0,
  "metadata": {
    "colab": {
      "provenance": [],
      "authorship_tag": "ABX9TyNlp26O+j0+Fh9ax0GWdFe4"
    },
    "kernelspec": {
      "name": "python3",
      "display_name": "Python 3"
    },
    "language_info": {
      "name": "python"
    }
  },
  "cells": [
    {
      "cell_type": "markdown",
      "source": [
        "# Visualización de datos\n"
      ],
      "metadata": {
        "id": "ILE533_fv3Ma"
      }
    },
    {
      "cell_type": "markdown",
      "source": [
        "## ¿Qué es la visualización de datos?\n",
        "\n",
        "Se trata de la representación gráfica de información y datos mediante el uso de elementos como tablas, gráficos, e incluso mapas.\n",
        "Estas herramientas nos proveen maneras accesibles de ver y entender tendencias, valores anómalos y patrones en los datos de forma rápida y visual. Esto facilita el proceso *crucial* de toma de decisiones durante la fase de preprocesamiento.\n",
        "\n",
        "**Todo el mundo entiende un gráfico que una ristra de líneas.**\n",
        "Esto hace de la visualización de datos un proceso fundamental a la hora de representar datos a una audiencia sin formación técnica."
      ],
      "metadata": {
        "id": "xw8mJXdOv69Y"
      }
    },
    {
      "cell_type": "markdown",
      "source": [
        "![alt text](https://cdnl.tblsft.com/sites/default/files/pages/_data_visualization_definition.gif \"img\")"
      ],
      "metadata": {
        "id": "YJVzo4iHxbnp"
      }
    },
    {
      "cell_type": "markdown",
      "source": [
        "## Ventajas y desventajas\n",
        "\n",
        "A priori, podría parecer que representar algo visualmente no tiene ningún inconveniente, pero eso no siempre es cierto. Los datos se pueden malinterpretar fácilmente si escogemos un tipo de gráfico poco adecuado. "
      ],
      "metadata": {
        "id": "pv_6v9FczHB1"
      }
    },
    {
      "cell_type": "markdown",
      "source": [
        "### Ventajas\n",
        "\n",
        "Por naturaleza, a nuestros ojos les \"llaman la atención\" los colores, patrones y formas.\n",
        "\n",
        "Otras ventajas pueden ser:\n",
        "\n",
        "  - Identificar visualmente patrones y relaciones\n",
        "  - Compartir información de forma sencilla\n",
        "  - Explorar oportunidades de forma interactiva\n"
      ],
      "metadata": {
        "id": "6pw2yke8znkj"
      }
    },
    {
      "cell_type": "markdown",
      "source": [
        "### Desventajas\n",
        "\n",
        "No nos confiemos, también es sencillo realizar un análisis incorrecto/sesgado. También corremos el peligro de caer en errores por un fallo de diseño de la visualización.\n",
        "\n",
        "Sobre todo, es esencial recordar:\n",
        "  - **CORRELACIÓN NO IMPLICA CAUSALIDAD**"
      ],
      "metadata": {
        "id": "Uy_Yv2oaz-vj"
      }
    },
    {
      "cell_type": "markdown",
      "source": [],
      "metadata": {
        "id": "-CGmGV7c1zoQ"
      }
    },
    {
      "cell_type": "markdown",
      "source": [
        "## Tipos de gráficos\n",
        "\n",
        "Existe un abanico muy amplio de técnicas de representación de datos en función de:\n",
        " 1. El tipo de información con la que tratamos\n",
        " 2. Lo que queremos aprender de ella"
      ],
      "metadata": {
        "id": "EtKzRHC5211J"
      }
    },
    {
      "cell_type": "markdown",
      "source": [
        "### De distribución"
      ],
      "metadata": {
        "id": "o3tIwk2o3IMs"
      }
    },
    {
      "cell_type": "markdown",
      "source": [
        "#### Histograma"
      ],
      "metadata": {
        "id": "8n4OaT3t4b0C"
      }
    },
    {
      "cell_type": "code",
      "source": [
        "import matplotlib.pyplot as plt\n",
        "hours = [17, 20, 22, 25, 26, 27, 30, 31, 32, 38, 40, 40, 45, 55]\n",
        "\n",
        "# Initialize layout\n",
        "fig, ax = plt.subplots(figsize = (9, 9))\n",
        "\n",
        "#plot\n",
        "ax.hist(hours, bins=5, edgecolor=\"black\");"
      ],
      "metadata": {
        "colab": {
          "base_uri": "https://localhost:8080/",
          "height": 537
        },
        "id": "nbVHr3Ku4Kvb",
        "outputId": "0b5eddb3-f2e0-4248-9ae5-409e07cd7a19"
      },
      "execution_count": 7,
      "outputs": [
        {
          "output_type": "display_data",
          "data": {
            "text/plain": [
              "<Figure size 648x648 with 1 Axes>"
            ],
            "image/png": "[encoded data removed]"
          },
          "metadata": {
            "needs_background": "light"
          }
        }
      ]
    },
    {
      "cell_type": "markdown",
      "source": [
        "#### Diagrama de caja y bigotes (outliers)"
      ],
      "metadata": {
        "id": "_mKC1mK34dm0"
      }
    },
    {
      "cell_type": "code",
      "source": [
        "import seaborn as sns\n",
        "df = sns.load_dataset('iris')\n",
        "\n",
        "sns.boxplot( x=df[\"species\"], y=df[\"sepal_length\"] )"
      ],
      "metadata": {
        "colab": {
          "base_uri": "https://localhost:8080/",
          "height": 296
        },
        "id": "eNLIC7oD4f4o",
        "outputId": "bc7613b5-90f3-4d6c-e9cd-73ee2da154fb"
      },
      "execution_count": 8,
      "outputs": [
        {
          "output_type": "execute_result",
          "data": {
            "text/plain": [
              "<matplotlib.axes._subplots.AxesSubplot at 0x7f54d6879d00>"
            ]
          },
          "metadata": {},
          "execution_count": 8
        },
        {
          "output_type": "display_data",
          "data": {
            "text/plain": [
              "<Figure size 432x288 with 1 Axes>"
            ],
            "image/png": "[encoded data removed]"
          },
          "metadata": {
            "needs_background": "light"
          }
        }
      ]
    },
    {
      "cell_type": "markdown",
      "source": [
        "### De correlación"
      ],
      "metadata": {
        "id": "_M6lSkH74UzI"
      }
    },
    {
      "cell_type": "markdown",
      "source": [
        "#### Nube de puntos (scatterplot)"
      ],
      "metadata": {
        "id": "OWzorv9f4qsW"
      }
    },
    {
      "cell_type": "code",
      "source": [
        "import matplotlib.pyplot as plt\n",
        "import numpy as np\n",
        "import pandas as pd\n",
        "\n",
        "# Create a dataset:\n",
        "df=pd.DataFrame({'x_values': range(1,101), 'y_values': np.random.randn(100)*15+range(1,101) })\n",
        "\n",
        "# plot\n",
        "plt.plot( 'x_values', 'y_values', data=df, linestyle='none', marker='o')\n",
        "plt.show()"
      ],
      "metadata": {
        "colab": {
          "base_uri": "https://localhost:8080/",
          "height": 265
        },
        "id": "e41mTgeI4t34",
        "outputId": "e5c7a78d-f165-4217-da9f-86c036b76f52"
      },
      "execution_count": 10,
      "outputs": [
        {
          "output_type": "display_data",
          "data": {
            "text/plain": [
              "<Figure size 432x288 with 1 Axes>"
            ],
            "image/png": "[encoded data removed]"
          },
          "metadata": {
            "needs_background": "light"
          }
        }
      ]
    },
    {
      "cell_type": "markdown",
      "source": [
        "## El comportamiento de los datos (un poco de estadística)\n",
        "\n",
        "Los atributos que componen los conjuntos de datos y los valores que toman se pueden aproximar a distribuciones de probabilidad.\n",
        "<br><br>\n",
        "*Una **distribución de probabilidad** es un modelo teórico que trata de explicar el comportamiento de un fenómeno real. Actúa como una función que asigna a cada suceso, cuantificado mediante una variable aleatoria, la probabilidad correspondiente.*"
      ],
      "metadata": {
        "id": "Xv1peebW5CEI"
      }
    },
    {
      "cell_type": "markdown",
      "source": [
        "#### Distribución normal"
      ],
      "metadata": {
        "id": "Z9UpZVbW5Q1G"
      }
    },
    {
      "cell_type": "code",
      "source": [
        "# Graficando histograma\n",
        "mu, sigma = 0, 0.2 # media y desvio estandar\n",
        "datos = np.random.normal(mu, sigma, 1000) #creando muestra de datos\n",
        "\n",
        "# histograma de distribución normal.\n",
        "cuenta, cajas, ignorar = plt.hist(datos, 20)\n",
        "plt.ylabel('frequencia')\n",
        "plt.xlabel('valores')\n",
        "plt.title('Histograma')\n",
        "plt.show()"
      ],
      "metadata": {
        "colab": {
          "base_uri": "https://localhost:8080/",
          "height": 295
        },
        "id": "YzAoVcnD5JTd",
        "outputId": "6d08e9ab-2185-48f6-a459-5078173f8607"
      },
      "execution_count": 18,
      "outputs": [
        {
          "output_type": "display_data",
          "data": {
            "text/plain": [
              "<Figure size 432x288 with 1 Axes>"
            ],
            "image/png": "[encoded data removed]"
          },
          "metadata": {
            "needs_background": "light"
          }
        }
      ]
    },
    {
      "cell_type": "markdown",
      "source": [
        "#### Distribución uniforme"
      ],
      "metadata": {
        "id": "uCgUa9_Y5SzI"
      }
    },
    {
      "cell_type": "code",
      "source": [
        "from scipy import stats\n",
        "\n",
        "# Graficando Uniforme\n",
        "uniforme = stats.uniform()\n",
        "x = np.linspace(uniforme.ppf(0.01),\n",
        "                uniforme.ppf(0.99), 100)\n",
        "fp = uniforme.pdf(x) # Función de Probabilidad\n",
        "fig, ax = plt.subplots()\n",
        "ax.plot(x, fp, '--')\n",
        "ax.vlines(x, 0, fp, colors='b', lw=5, alpha=0.5)\n",
        "ax.set_yticks([0., 0.2, 0.4, 0.6, 0.8, 1., 1.2])\n",
        "plt.title('Distribución Uniforme')\n",
        "plt.ylabel('probabilidad')\n",
        "plt.xlabel('valores')\n",
        "plt.show()"
      ],
      "metadata": {
        "colab": {
          "base_uri": "https://localhost:8080/",
          "height": 295
        },
        "id": "0t9Gwee15W9D",
        "outputId": "dcb98c0a-794a-493c-8c25-2019dc019d99"
      },
      "execution_count": 17,
      "outputs": [
        {
          "output_type": "display_data",
          "data": {
            "text/plain": [
              "<Figure size 432x288 with 1 Axes>"
            ],
            "image/png": "[encoded data removed]"
          },
          "metadata": {
            "needs_background": "light"
          }
        }
      ]
    },
    {
      "cell_type": "markdown",
      "source": [
        "## Conclusiones"
      ],
      "metadata": {
        "id": "ohCCJDgD7re8"
      }
    },
    {
      "cell_type": "markdown",
      "source": [
        "![alt text](https://relopezbriega.github.io/images/distributions_choice.png \"img\")"
      ],
      "metadata": {
        "id": "2H5AsTZT50ZK"
      }
    },
    {
      "cell_type": "markdown",
      "source": [
        "Estimando a qué distribución se pueden aproximar los datos (y representándolos, por supuesto) podemos responder preguntas como:\n",
        " - ¿Cuál es la parte más densa (que más información aporta) del conjunto de datos?\n",
        " - ¿Merece la pena cortar el conjunto de datos? ¿Por dónde?\n",
        " - ¿Acaso estos datos me aportan algún tipo de información?"
      ],
      "metadata": {
        "id": "pM0Zunjb59tQ"
      }
    },
    {
      "cell_type": "markdown",
      "source": [
        "https://www.python-graph-gallery.com <br>\n",
        "https://www.python-graph-gallery.com/cheat-sheets/"
      ],
      "metadata": {
        "id": "F9LVN7b82btL"
      }
    }
  ]
}